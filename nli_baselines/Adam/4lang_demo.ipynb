{
 "cells": [
  {
   "cell_type": "markdown",
   "metadata": {},
   "source": [
    "# 4lang demo\n",
    "\n",
    "My baseline builds on the 4lang project available on [github](https://github.com/kornai/4lang). Our idea was to use the concept of the\n",
    "[4lang](https://github.com/kornai/4lang) graphs.\n",
    "\n",
    "In this notebook I only present the client side of our baseline, the code of the webservice is available on [github](https://github.com/adaamko/4lang). I will present a simple way of using the 4lang graphs for inference. For this task we can calculate similarities among the graphs edges built from the premise and the hypothesis sentences.\n",
    "\n",
    "If we are ready to make an assumption an inference corresponds with the similarity of the graphs's edges, then this simple method works for a lot of examples, but if we want higher accuracy, we need to define finer techniques. This is where the definitions of the words come into play.\n",
    "\n",
    "The base url of our service: http://4lang.hlt.bme.hu\n",
    "\n",
    "Currently our service has three endpoints, with each of them representing different methods:\n",
    "\n",
    "*  __/default__ - Returns the graphs built from the sentences.\n",
    "*  __/expand__ - Returns the graphs, where the word's definition has been added to the graph.\n",
    "*  __/abstract__ - Calling this function, we defined some rules, where we can build a more abstract graph using the definitions.\n",
    "\n",
    "If you interested in only processing a single sentence, you can call the following endpoints:\n",
    "*  __/sendef__ - Returns the graphs built from the sentence.\n",
    "*  __/senexp__ - Returns the graphs, where the word's definition has been added to the graph.\n",
    "*  __/senabs__ - Calling this function, we defined some rules, where we can build a more abstract graph using the definitions.\n",
    "\n",
    "You can get a word's definition by calling the defined endpoint:\n",
    "*  __/definition__ - Returns the graphs built from the word's definition."
   ]
  },
  {
   "cell_type": "markdown",
   "metadata": {},
   "source": [
    "First we import the dependencies"
   ]
  },
  {
   "cell_type": "code",
   "execution_count": 1,
   "metadata": {},
   "outputs": [],
   "source": [
    "import requests\n",
    "import json\n",
    "import matplotlib\n",
    "import re\n",
    "import pydot\n",
    "from graphviz import Digraph\n",
    "from graphviz import Source\n",
    "from utils import Utils"
   ]
  },
  {
   "cell_type": "markdown",
   "metadata": {},
   "source": [
    "We can define any two sentences we want the graph to be build on."
   ]
  },
  {
   "cell_type": "code",
   "execution_count": 2,
   "metadata": {},
   "outputs": [],
   "source": [
    "premise = 'My poor wife!'\n",
    "hypothesis = 'I feel bad for my wife!'"
   ]
  },
  {
   "cell_type": "markdown",
   "metadata": {},
   "source": [
    "If we have the sentences we need to construct our json, and set the headers as well.\n",
    "The endpoint expects the jason to have the following format:\n",
    "\n",
    "    {    \n",
    "        'prem': 'sentence1',       \n",
    "        'hyp': 'sentence2'        \n",
    "    }\n",
    "    "
   ]
  },
  {
   "cell_type": "code",
   "execution_count": 3,
   "metadata": {},
   "outputs": [],
   "source": [
    "data = {'prem':   premise,\n",
    "       'hyp':     hypothesis}\n",
    "data_json = json.dumps(data)\n",
    "payload = {'json_payload': data_json}\n",
    "headers = {'Content-type': 'application/json', 'Accept': 'text/plain'}"
   ]
  },
  {
   "cell_type": "markdown",
   "metadata": {},
   "source": [
    "If we have our json we can make the request chosen from the endpoints. First we make a simple request, only returning the graphs:"
   ]
  },
  {
   "cell_type": "code",
   "execution_count": 4,
   "metadata": {},
   "outputs": [],
   "source": [
    "r = requests.post(\"http://hlt.bme.hu/4lang/default\", data=data_json, headers=headers)"
   ]
  },
  {
   "cell_type": "markdown",
   "metadata": {},
   "source": [
    "In the response we get the graphs in nx [MultiDiGraph](https://networkx.github.io/documentation/networkx-1.10/reference/classes.multidigraph.html) format, which we can extract from the jason in the following way:"
   ]
  },
  {
   "cell_type": "code",
   "execution_count": 5,
   "metadata": {},
   "outputs": [],
   "source": [
    "s_prem = r.json()['prem']\n",
    "s_hyp = r.json()['hyp']"
   ]
  },
  {
   "cell_type": "markdown",
   "metadata": {},
   "source": [
    "Now we have our graphs, we need to import networkx, so we can visualize them"
   ]
  },
  {
   "cell_type": "code",
   "execution_count": 6,
   "metadata": {},
   "outputs": [],
   "source": [
    "import networkx as nx\n",
    "from networkx.readwrite import json_graph"
   ]
  },
  {
   "cell_type": "markdown",
   "metadata": {},
   "source": [
    "We need to build the objects from the json, for this task we can use the networkx's __json_graph__ class:"
   ]
  },
  {
   "cell_type": "code",
   "execution_count": 7,
   "metadata": {},
   "outputs": [],
   "source": [
    "g_prem = json_graph.adjacency.adjacency_graph(s_prem)\n",
    "g_hyp = json_graph.adjacency.adjacency_graph(s_hyp)"
   ]
  },
  {
   "cell_type": "markdown",
   "metadata": {},
   "source": [
    "After we have our objects, all we need to do is to visualize them, I used [graphviz](http://graphviz.readthedocs.io/en/stable/manual.html)\n",
    "__dot__ format."
   ]
  },
  {
   "cell_type": "code",
   "execution_count": 8,
   "metadata": {},
   "outputs": [],
   "source": [
    "utils = Utils()\n",
    "prem_dot = utils.to_dot(g_prem)\n",
    "hyp_dot = utils.to_dot(g_hyp)"
   ]
  },
  {
   "cell_type": "markdown",
   "metadata": {},
   "source": [
    "After we have the dot strings, we can use [Source](http://graphviz.readthedocs.io/en/stable/api.html#source)."
   ]
  },
  {
   "cell_type": "code",
   "execution_count": 9,
   "metadata": {},
   "outputs": [],
   "source": [
    "v_prem = Source(prem_dot)\n",
    "v_hyp = Source(hyp_dot)"
   ]
  },
  {
   "cell_type": "code",
   "execution_count": 10,
   "metadata": {},
   "outputs": [
    {
     "data": {
      "image/svg+xml": [
       "<?xml version=\"1.0\" encoding=\"UTF-8\" standalone=\"no\"?>\n",
       "<!DOCTYPE svg PUBLIC \"-//W3C//DTD SVG 1.1//EN\"\n",
       " \"http://www.w3.org/Graphics/SVG/1.1/DTD/svg11.dtd\">\n",
       "<!-- Generated by graphviz version 2.36.0 (20140111.2315)\n",
       " -->\n",
       "<!-- Title: finite_state_machine Pages: 1 -->\n",
       "<svg width=\"171pt\" height=\"369pt\"\n",
       " viewBox=\"0.00 0.00 170.83 369.44\" xmlns=\"http://www.w3.org/2000/svg\" xmlns:xlink=\"http://www.w3.org/1999/xlink\">\n",
       "<g id=\"graph0\" class=\"graph\" transform=\"scale(1.38889 1.38889) rotate(0) translate(4 262)\">\n",
       "<title>finite_state_machine</title>\n",
       "<polygon fill=\"white\" stroke=\"none\" points=\"-4,4 -4,-262 119,-262 119,4 -4,4\"/>\n",
       "<!-- HE_140147086712784 -->\n",
       "<g id=\"node1\" class=\"node\"><title>HE_140147086712784</title>\n",
       "<ellipse fill=\"none\" stroke=\"black\" cx=\"22\" cy=\"-133\" rx=\"22.6206\" ry=\"22.9987\"/>\n",
       "<text text-anchor=\"middle\" x=\"22\" y=\"-129.3\" font-family=\"Times,serif\" font-size=\"14.00\">HE</text>\n",
       "</g>\n",
       "<!-- has_140146967711888 -->\n",
       "<g id=\"node2\" class=\"node\"><title>has_140146967711888</title>\n",
       "<ellipse fill=\"none\" stroke=\"black\" cx=\"46\" cy=\"-235\" rx=\"22.6206\" ry=\"22.9987\"/>\n",
       "<text text-anchor=\"middle\" x=\"46\" y=\"-231.3\" font-family=\"Times,serif\" font-size=\"14.00\">has</text>\n",
       "</g>\n",
       "<!-- has_140146967711888&#45;&gt;HE_140147086712784 -->\n",
       "<g id=\"edge1\" class=\"edge\"><title>has_140146967711888&#45;&gt;HE_140147086712784</title>\n",
       "<path fill=\"none\" stroke=\"black\" d=\"M40.9102,-212.793C37.601,-199.004 33.2282,-180.784 29.5212,-165.338\"/>\n",
       "<polygon fill=\"black\" stroke=\"black\" points=\"32.8196,-164.084 27.0824,-155.177 26.0129,-165.718 32.8196,-164.084\"/>\n",
       "<text text-anchor=\"middle\" x=\"39.5\" y=\"-182.3\" font-family=\"Times,serif\" font-size=\"14.00\">1</text>\n",
       "</g>\n",
       "<!-- wife_140147086712656 -->\n",
       "<g id=\"node4\" class=\"node\"><title>wife_140147086712656</title>\n",
       "<ellipse fill=\"none\" stroke=\"black\" cx=\"89\" cy=\"-133\" rx=\"26.4705\" ry=\"26.7961\"/>\n",
       "<text text-anchor=\"middle\" x=\"89\" y=\"-129.3\" font-family=\"Times,serif\" font-size=\"14.00\">wife</text>\n",
       "</g>\n",
       "<!-- has_140146967711888&#45;&gt;wife_140147086712656 -->\n",
       "<g id=\"edge2\" class=\"edge\"><title>has_140146967711888&#45;&gt;wife_140147086712656</title>\n",
       "<path fill=\"none\" stroke=\"black\" d=\"M54.7017,-213.764C60.4733,-200.341 68.1796,-182.42 74.8253,-166.964\"/>\n",
       "<polygon fill=\"black\" stroke=\"black\" points=\"78.0644,-168.292 78.7994,-157.722 71.6337,-165.526 78.0644,-168.292\"/>\n",
       "<text text-anchor=\"middle\" x=\"73.5\" y=\"-182.3\" font-family=\"Times,serif\" font-size=\"14.00\">2</text>\n",
       "</g>\n",
       "<!-- poor_140146967711952 -->\n",
       "<g id=\"node3\" class=\"node\"><title>poor_140146967711952</title>\n",
       "<ellipse fill=\"none\" stroke=\"black\" cx=\"89\" cy=\"-27\" rx=\"26.4705\" ry=\"26.7961\"/>\n",
       "<text text-anchor=\"middle\" x=\"89\" y=\"-23.3\" font-family=\"Times,serif\" font-size=\"14.00\">poor</text>\n",
       "</g>\n",
       "<!-- wife_140147086712656&#45;&gt;poor_140146967711952 -->\n",
       "<g id=\"edge3\" class=\"edge\"><title>wife_140147086712656&#45;&gt;poor_140146967711952</title>\n",
       "<path fill=\"none\" stroke=\"black\" d=\"M89,-106.292C89,-93.542 89,-77.9299 89,-64.011\"/>\n",
       "<polygon fill=\"black\" stroke=\"black\" points=\"92.5001,-63.7725 89,-53.7726 85.5001,-63.7726 92.5001,-63.7725\"/>\n",
       "<text text-anchor=\"middle\" x=\"92.5\" y=\"-76.3\" font-family=\"Times,serif\" font-size=\"14.00\">0</text>\n",
       "</g>\n",
       "</g>\n",
       "</svg>\n"
      ],
      "text/plain": [
       "<graphviz.files.Source at 0x7f4df8883940>"
      ]
     },
     "execution_count": 10,
     "metadata": {},
     "output_type": "execute_result"
    }
   ],
   "source": [
    "v_prem"
   ]
  },
  {
   "cell_type": "code",
   "execution_count": 11,
   "metadata": {},
   "outputs": [
    {
     "data": {
      "image/svg+xml": [
       "<?xml version=\"1.0\" encoding=\"UTF-8\" standalone=\"no\"?>\n",
       "<!DOCTYPE svg PUBLIC \"-//W3C//DTD SVG 1.1//EN\"\n",
       " \"http://www.w3.org/Graphics/SVG/1.1/DTD/svg11.dtd\">\n",
       "<!-- Generated by graphviz version 2.36.0 (20140111.2315)\n",
       " -->\n",
       "<!-- Title: finite_state_machine Pages: 1 -->\n",
       "<svg width=\"207pt\" height=\"500pt\"\n",
       " viewBox=\"0.00 0.00 206.94 500.00\" xmlns=\"http://www.w3.org/2000/svg\" xmlns:xlink=\"http://www.w3.org/1999/xlink\">\n",
       "<g id=\"graph0\" class=\"graph\" transform=\"scale(1.38889 1.38889) rotate(0) translate(4 356)\">\n",
       "<title>finite_state_machine</title>\n",
       "<polygon fill=\"white\" stroke=\"none\" points=\"-4,4 -4,-356 145,-356 145,4 -4,4\"/>\n",
       "<!-- HE_140147086712272 -->\n",
       "<g id=\"node1\" class=\"node\"><title>HE_140147086712272</title>\n",
       "<ellipse fill=\"none\" stroke=\"black\" cx=\"119\" cy=\"-227\" rx=\"22.6206\" ry=\"22.9987\"/>\n",
       "<text text-anchor=\"middle\" x=\"119\" y=\"-223.3\" font-family=\"Times,serif\" font-size=\"14.00\">HE</text>\n",
       "</g>\n",
       "<!-- feel_140147086711824 -->\n",
       "<g id=\"node3\" class=\"node\"><title>feel_140147086711824</title>\n",
       "<ellipse fill=\"none\" stroke=\"black\" cx=\"89\" cy=\"-124\" rx=\"24.0718\" ry=\"24.0958\"/>\n",
       "<text text-anchor=\"middle\" x=\"89\" y=\"-120.3\" font-family=\"Times,serif\" font-size=\"14.00\">feel</text>\n",
       "</g>\n",
       "<!-- HE_140147086712272&#45;&gt;feel_140147086711824 -->\n",
       "<g id=\"edge1\" class=\"edge\"><title>HE_140147086712272&#45;&gt;feel_140147086711824</title>\n",
       "<path fill=\"none\" stroke=\"black\" d=\"M105.528,-208.576C100.324,-200.862 94.9274,-191.414 92,-182 89.6676,-174.499 88.4919,-166.179 87.9803,-158.266\"/>\n",
       "<polygon fill=\"black\" stroke=\"black\" points=\"91.4762,-158.079 87.6488,-148.2 84.48,-158.31 91.4762,-158.079\"/>\n",
       "<text text-anchor=\"middle\" x=\"95.5\" y=\"-170.3\" font-family=\"Times,serif\" font-size=\"14.00\">0</text>\n",
       "</g>\n",
       "<!-- bad_140147086712144 -->\n",
       "<g id=\"node2\" class=\"node\"><title>bad_140147086712144</title>\n",
       "<ellipse fill=\"none\" stroke=\"black\" cx=\"89\" cy=\"-24\" rx=\"23.0982\" ry=\"23.2963\"/>\n",
       "<text text-anchor=\"middle\" x=\"89\" y=\"-20.3\" font-family=\"Times,serif\" font-size=\"14.00\">bad</text>\n",
       "</g>\n",
       "<!-- feel_140147086711824&#45;&gt;HE_140147086712272 -->\n",
       "<g id=\"edge2\" class=\"edge\"><title>feel_140147086711824&#45;&gt;HE_140147086712272</title>\n",
       "<path fill=\"none\" stroke=\"black\" d=\"M95.6243,-147.302C99.8219,-161.434 105.308,-179.902 109.91,-195.396\"/>\n",
       "<polygon fill=\"black\" stroke=\"black\" points=\"106.581,-196.483 112.784,-205.073 113.292,-194.49 106.581,-196.483\"/>\n",
       "<text text-anchor=\"middle\" x=\"109.5\" y=\"-170.3\" font-family=\"Times,serif\" font-size=\"14.00\">1</text>\n",
       "</g>\n",
       "<!-- feel_140147086711824&#45;&gt;bad_140147086712144 -->\n",
       "<g id=\"edge3\" class=\"edge\"><title>feel_140147086711824&#45;&gt;bad_140147086712144</title>\n",
       "<path fill=\"none\" stroke=\"black\" d=\"M89,-99.7754C89,-87.2364 89,-71.5494 89,-57.7859\"/>\n",
       "<polygon fill=\"black\" stroke=\"black\" points=\"92.5001,-57.7198 89,-47.7199 85.5001,-57.7199 92.5001,-57.7198\"/>\n",
       "<text text-anchor=\"middle\" x=\"92.5\" y=\"-70.3\" font-family=\"Times,serif\" font-size=\"14.00\">0</text>\n",
       "</g>\n",
       "<!-- for_140147086712080 -->\n",
       "<g id=\"node4\" class=\"node\"><title>for_140147086712080</title>\n",
       "<ellipse fill=\"none\" stroke=\"black\" cx=\"20\" cy=\"-329\" rx=\"20.203\" ry=\"20.5982\"/>\n",
       "<text text-anchor=\"middle\" x=\"20\" y=\"-325.3\" font-family=\"Times,serif\" font-size=\"14.00\">for</text>\n",
       "</g>\n",
       "<!-- for_140147086712080&#45;&gt;feel_140147086711824 -->\n",
       "<g id=\"edge4\" class=\"edge\"><title>for_140147086712080&#45;&gt;feel_140147086711824</title>\n",
       "<path fill=\"none\" stroke=\"black\" d=\"M13.0204,-309.304C4.57246,-283.547 -6.69378,-236.225 9,-200 19.3412,-176.13 41.4344,-156.375 59.7882,-143.142\"/>\n",
       "<polygon fill=\"black\" stroke=\"black\" points=\"62.1862,-145.74 68.43,-137.18 58.2112,-139.978 62.1862,-145.74\"/>\n",
       "<text text-anchor=\"middle\" x=\"12.5\" y=\"-223.3\" font-family=\"Times,serif\" font-size=\"14.00\">1</text>\n",
       "</g>\n",
       "<!-- wife_140147086711952 -->\n",
       "<g id=\"node6\" class=\"node\"><title>wife_140147086711952</title>\n",
       "<ellipse fill=\"none\" stroke=\"black\" cx=\"52\" cy=\"-227\" rx=\"26.4705\" ry=\"26.7961\"/>\n",
       "<text text-anchor=\"middle\" x=\"52\" y=\"-223.3\" font-family=\"Times,serif\" font-size=\"14.00\">wife</text>\n",
       "</g>\n",
       "<!-- for_140147086712080&#45;&gt;wife_140147086711952 -->\n",
       "<g id=\"edge5\" class=\"edge\"><title>for_140147086712080&#45;&gt;wife_140147086711952</title>\n",
       "<path fill=\"none\" stroke=\"black\" d=\"M26.1699,-308.719C30.3713,-295.59 36.049,-277.847 41.0113,-262.34\"/>\n",
       "<polygon fill=\"black\" stroke=\"black\" points=\"44.432,-263.134 44.1463,-252.543 37.765,-261 44.432,-263.134\"/>\n",
       "<text text-anchor=\"middle\" x=\"41.5\" y=\"-276.3\" font-family=\"Times,serif\" font-size=\"14.00\">2</text>\n",
       "</g>\n",
       "<!-- has_140147086712400 -->\n",
       "<g id=\"node5\" class=\"node\"><title>has_140147086712400</title>\n",
       "<ellipse fill=\"none\" stroke=\"black\" cx=\"87\" cy=\"-329\" rx=\"22.6206\" ry=\"22.9987\"/>\n",
       "<text text-anchor=\"middle\" x=\"87\" y=\"-325.3\" font-family=\"Times,serif\" font-size=\"14.00\">has</text>\n",
       "</g>\n",
       "<!-- has_140147086712400&#45;&gt;HE_140147086712272 -->\n",
       "<g id=\"edge6\" class=\"edge\"><title>has_140147086712400&#45;&gt;HE_140147086712272</title>\n",
       "<path fill=\"none\" stroke=\"black\" d=\"M93.7864,-306.793C98.2712,-292.778 104.221,-274.184 109.215,-258.579\"/>\n",
       "<polygon fill=\"black\" stroke=\"black\" points=\"112.619,-259.425 112.333,-248.834 105.952,-257.291 112.619,-259.425\"/>\n",
       "<text text-anchor=\"middle\" x=\"108.5\" y=\"-276.3\" font-family=\"Times,serif\" font-size=\"14.00\">1</text>\n",
       "</g>\n",
       "<!-- has_140147086712400&#45;&gt;wife_140147086711952 -->\n",
       "<g id=\"edge7\" class=\"edge\"><title>has_140147086712400&#45;&gt;wife_140147086711952</title>\n",
       "<path fill=\"none\" stroke=\"black\" d=\"M79.748,-307.28C75.1818,-294.234 69.1785,-277.081 63.924,-262.069\"/>\n",
       "<polygon fill=\"black\" stroke=\"black\" points=\"67.209,-260.859 60.6019,-252.577 60.6019,-263.172 67.209,-260.859\"/>\n",
       "<text text-anchor=\"middle\" x=\"76.5\" y=\"-276.3\" font-family=\"Times,serif\" font-size=\"14.00\">2</text>\n",
       "</g>\n",
       "</g>\n",
       "</svg>\n"
      ],
      "text/plain": [
       "<graphviz.files.Source at 0x7f4df8883ac8>"
      ]
     },
     "execution_count": 11,
     "metadata": {},
     "output_type": "execute_result"
    }
   ],
   "source": [
    "v_hyp"
   ]
  },
  {
   "cell_type": "markdown",
   "metadata": {},
   "source": [
    "We can calculate similarities between the graphs edges as well, using the method I defined in the utils module. For this first we can get the edges, after we can call __asim_jac__ for calculation."
   ]
  },
  {
   "cell_type": "code",
   "execution_count": 12,
   "metadata": {},
   "outputs": [
    {
     "name": "stdout",
     "output_type": "stream",
     "text": [
      "0.2857142857142857\n"
     ]
    }
   ],
   "source": [
    "edges_prem = utils.get_edges(g_prem)\n",
    "edges_hyp = utils.get_edges(g_hyp)\n",
    "sim = utils.asim_jac(edges_prem, edges_hyp)\n",
    "print(sim)"
   ]
  },
  {
   "cell_type": "markdown",
   "metadata": {},
   "source": [
    "You can use the service to simply process a single sentence:"
   ]
  },
  {
   "cell_type": "code",
   "execution_count": 13,
   "metadata": {},
   "outputs": [],
   "source": [
    "sentence = 'My name is Adam.'\n",
    "data = {'sentence':   sentence}\n",
    "data_json = json.dumps(data)\n",
    "payload = {'json_payload': data_json}\n",
    "headers = {'Content-type': 'application/json', 'Accept': 'text/plain'}\n",
    "r = requests.post(\"http://hlt.bme.hu/4lang/sendef\", data=data_json, headers=headers)\n",
    "s_machines = r.json()['sentence']"
   ]
  },
  {
   "cell_type": "code",
   "execution_count": 14,
   "metadata": {},
   "outputs": [],
   "source": [
    "g_sen = json_graph.adjacency.adjacency_graph(s_machines)\n",
    "s_dot = utils.to_dot(g_sen)\n",
    "v_sen = Source(s_dot)"
   ]
  },
  {
   "cell_type": "code",
   "execution_count": 15,
   "metadata": {},
   "outputs": [
    {
     "data": {
      "image/svg+xml": [
       "<?xml version=\"1.0\" encoding=\"UTF-8\" standalone=\"no\"?>\n",
       "<!DOCTYPE svg PUBLIC \"-//W3C//DTD SVG 1.1//EN\"\n",
       " \"http://www.w3.org/Graphics/SVG/1.1/DTD/svg11.dtd\">\n",
       "<!-- Generated by graphviz version 2.36.0 (20140111.2315)\n",
       " -->\n",
       "<!-- Title: finite_state_machine Pages: 1 -->\n",
       "<svg width=\"182pt\" height=\"392pt\"\n",
       " viewBox=\"0.00 0.00 181.94 391.67\" xmlns=\"http://www.w3.org/2000/svg\" xmlns:xlink=\"http://www.w3.org/1999/xlink\">\n",
       "<g id=\"graph0\" class=\"graph\" transform=\"scale(1.38889 1.38889) rotate(0) translate(4 278)\">\n",
       "<title>finite_state_machine</title>\n",
       "<polygon fill=\"white\" stroke=\"none\" points=\"-4,4 -4,-278 127,-278 127,4 -4,4\"/>\n",
       "<!-- HE_140146967712144 -->\n",
       "<g id=\"node1\" class=\"node\"><title>HE_140146967712144</title>\n",
       "<ellipse fill=\"none\" stroke=\"black\" cx=\"22\" cy=\"-145\" rx=\"22.6206\" ry=\"22.9987\"/>\n",
       "<text text-anchor=\"middle\" x=\"22\" y=\"-141.3\" font-family=\"Times,serif\" font-size=\"14.00\">HE</text>\n",
       "</g>\n",
       "<!-- adam_140146967713232 -->\n",
       "<g id=\"node2\" class=\"node\"><title>adam_140146967713232</title>\n",
       "<ellipse fill=\"none\" stroke=\"black\" cx=\"93\" cy=\"-31\" rx=\"30.3206\" ry=\"30.5947\"/>\n",
       "<text text-anchor=\"middle\" x=\"93\" y=\"-27.3\" font-family=\"Times,serif\" font-size=\"14.00\">adam</text>\n",
       "</g>\n",
       "<!-- name_140146967713424 -->\n",
       "<g id=\"node4\" class=\"node\"><title>name_140146967713424</title>\n",
       "<ellipse fill=\"none\" stroke=\"black\" cx=\"93\" cy=\"-145\" rx=\"30.3206\" ry=\"30.5947\"/>\n",
       "<text text-anchor=\"middle\" x=\"93\" y=\"-141.3\" font-family=\"Times,serif\" font-size=\"14.00\">name</text>\n",
       "</g>\n",
       "<!-- adam_140146967713232&#45;&gt;name_140146967713424 -->\n",
       "<g id=\"edge1\" class=\"edge\"><title>adam_140146967713232&#45;&gt;name_140146967713424</title>\n",
       "<path fill=\"none\" stroke=\"black\" d=\"M93,-61.8588C93,-74.7865 93,-90.1107 93,-104.001\"/>\n",
       "<polygon fill=\"black\" stroke=\"black\" points=\"89.5001,-104.28 93,-114.28 96.5001,-104.28 89.5001,-104.28\"/>\n",
       "<text text-anchor=\"middle\" x=\"96.5\" y=\"-84.3\" font-family=\"Times,serif\" font-size=\"14.00\">1</text>\n",
       "</g>\n",
       "<!-- has_140146967713488 -->\n",
       "<g id=\"node3\" class=\"node\"><title>has_140146967713488</title>\n",
       "<ellipse fill=\"none\" stroke=\"black\" cx=\"47\" cy=\"-251\" rx=\"22.6206\" ry=\"22.9987\"/>\n",
       "<text text-anchor=\"middle\" x=\"47\" y=\"-247.3\" font-family=\"Times,serif\" font-size=\"14.00\">has</text>\n",
       "</g>\n",
       "<!-- has_140146967713488&#45;&gt;HE_140146967712144 -->\n",
       "<g id=\"edge2\" class=\"edge\"><title>has_140146967713488&#45;&gt;HE_140146967712144</title>\n",
       "<path fill=\"none\" stroke=\"black\" d=\"M41.8805,-228.703C38.3079,-213.841 33.482,-193.765 29.4797,-177.115\"/>\n",
       "<polygon fill=\"black\" stroke=\"black\" points=\"32.853,-176.173 27.1126,-167.268 26.0469,-177.81 32.853,-176.173\"/>\n",
       "<text text-anchor=\"middle\" x=\"40.5\" y=\"-198.3\" font-family=\"Times,serif\" font-size=\"14.00\">1</text>\n",
       "</g>\n",
       "<!-- has_140146967713488&#45;&gt;name_140146967713424 -->\n",
       "<g id=\"edge3\" class=\"edge\"><title>has_140146967713488&#45;&gt;name_140146967713424</title>\n",
       "<path fill=\"none\" stroke=\"black\" d=\"M55.8693,-229.948C61.7932,-216.554 69.7591,-198.545 76.7936,-182.641\"/>\n",
       "<polygon fill=\"black\" stroke=\"black\" points=\"80.1824,-183.631 81.0266,-173.07 73.7806,-180.8 80.1824,-183.631\"/>\n",
       "<text text-anchor=\"middle\" x=\"74.5\" y=\"-198.3\" font-family=\"Times,serif\" font-size=\"14.00\">2</text>\n",
       "</g>\n",
       "<!-- name_140146967713424&#45;&gt;adam_140146967713232 -->\n",
       "<g id=\"edge4\" class=\"edge\"><title>name_140146967713424&#45;&gt;adam_140146967713232</title>\n",
       "<path fill=\"none\" stroke=\"black\" d=\"M85.3043,-115.246C83.9302,-108.949 82.7111,-102.286 82,-96 81.0631,-87.7171 81.5849,-78.8801 82.801,-70.4999\"/>\n",
       "<polygon fill=\"black\" stroke=\"black\" points=\"86.2612,-71.0327 84.5774,-60.5726 79.3707,-69.7997 86.2612,-71.0327\"/>\n",
       "<text text-anchor=\"middle\" x=\"85.5\" y=\"-84.3\" font-family=\"Times,serif\" font-size=\"14.00\">0</text>\n",
       "</g>\n",
       "</g>\n",
       "</svg>\n"
      ],
      "text/plain": [
       "<graphviz.files.Source at 0x7f4df917b358>"
      ]
     },
     "execution_count": 15,
     "metadata": {},
     "output_type": "execute_result"
    }
   ],
   "source": [
    "v_sen"
   ]
  },
  {
   "cell_type": "markdown",
   "metadata": {},
   "source": [
    "Or if you want to get a word's definition, for example __father__'s:"
   ]
  },
  {
   "cell_type": "code",
   "execution_count": 16,
   "metadata": {},
   "outputs": [],
   "source": [
    "word = 'father'\n",
    "data = {'word':   word}\n",
    "data_json = json.dumps(data)\n",
    "payload = {'json_payload': data_json}\n",
    "headers = {'Content-type': 'application/json', 'Accept': 'text/plain'}\n",
    "r = requests.post(\"http://hlt.bme.hu/4lang/definition\", data=data_json, headers=headers)\n",
    "w_def = r.json()['word']"
   ]
  },
  {
   "cell_type": "code",
   "execution_count": 17,
   "metadata": {},
   "outputs": [],
   "source": [
    "g_def = json_graph.adjacency.adjacency_graph(w_def)\n",
    "w_dot = utils.to_dot(g_def)\n",
    "v_def = Source(w_dot)"
   ]
  },
  {
   "cell_type": "code",
   "execution_count": 18,
   "metadata": {},
   "outputs": [
    {
     "data": {
      "image/svg+xml": [
       "<?xml version=\"1.0\" encoding=\"UTF-8\" standalone=\"no\"?>\n",
       "<!DOCTYPE svg PUBLIC \"-//W3C//DTD SVG 1.1//EN\"\n",
       " \"http://www.w3.org/Graphics/SVG/1.1/DTD/svg11.dtd\">\n",
       "<!-- Generated by graphviz version 2.36.0 (20140111.2315)\n",
       " -->\n",
       "<!-- Title: finite_state_machine Pages: 1 -->\n",
       "<svg width=\"204pt\" height=\"261pt\"\n",
       " viewBox=\"0.00 0.00 204.17 261.11\" xmlns=\"http://www.w3.org/2000/svg\" xmlns:xlink=\"http://www.w3.org/1999/xlink\">\n",
       "<g id=\"graph0\" class=\"graph\" transform=\"scale(1.38889 1.38889) rotate(0) translate(4 184)\">\n",
       "<title>finite_state_machine</title>\n",
       "<polygon fill=\"white\" stroke=\"none\" points=\"-4,4 -4,-184 143,-184 143,4 -4,4\"/>\n",
       "<!-- father_140146561344848 -->\n",
       "<g id=\"node1\" class=\"node\"><title>father_140146561344848</title>\n",
       "<ellipse fill=\"none\" stroke=\"black\" cx=\"67\" cy=\"-149\" rx=\"31.2965\" ry=\"31.3957\"/>\n",
       "<text text-anchor=\"middle\" x=\"67\" y=\"-145.3\" font-family=\"Times,serif\" font-size=\"14.00\">father</text>\n",
       "</g>\n",
       "<!-- male_140146561345168 -->\n",
       "<g id=\"node2\" class=\"node\"><title>male_140146561345168</title>\n",
       "<ellipse fill=\"none\" stroke=\"black\" cx=\"28\" cy=\"-33\" rx=\"28.3955\" ry=\"28.6953\"/>\n",
       "<text text-anchor=\"middle\" x=\"28\" y=\"-29.3\" font-family=\"Times,serif\" font-size=\"14.00\">male</text>\n",
       "</g>\n",
       "<!-- father_140146561344848&#45;&gt;male_140146561345168 -->\n",
       "<g id=\"edge1\" class=\"edge\"><title>father_140146561344848&#45;&gt;male_140146561345168</title>\n",
       "<path fill=\"none\" stroke=\"black\" d=\"M57.1587,-119.233C52.0384,-104.266 45.7296,-85.8251 40.2914,-69.9287\"/>\n",
       "<polygon fill=\"black\" stroke=\"black\" points=\"43.5847,-68.7422 37.0362,-60.4135 36.9616,-71.0081 43.5847,-68.7422\"/>\n",
       "<text text-anchor=\"middle\" x=\"53.5\" y=\"-88.3\" font-family=\"Times,serif\" font-size=\"14.00\">0</text>\n",
       "</g>\n",
       "<!-- parent_140146561345040 -->\n",
       "<g id=\"node3\" class=\"node\"><title>parent_140146561345040</title>\n",
       "<ellipse fill=\"none\" stroke=\"black\" cx=\"107\" cy=\"-33\" rx=\"32.2457\" ry=\"32.4942\"/>\n",
       "<text text-anchor=\"middle\" x=\"107\" y=\"-29.3\" font-family=\"Times,serif\" font-size=\"14.00\">parent</text>\n",
       "</g>\n",
       "<!-- father_140146561344848&#45;&gt;parent_140146561345040 -->\n",
       "<g id=\"edge2\" class=\"edge\"><title>father_140146561344848&#45;&gt;parent_140146561345040</title>\n",
       "<path fill=\"none\" stroke=\"black\" d=\"M77.0937,-119.233C81.9539,-105.381 87.8583,-88.5538 93.1327,-73.5218\"/>\n",
       "<polygon fill=\"black\" stroke=\"black\" points=\"96.4821,-74.547 96.4905,-63.9522 89.8769,-72.2293 96.4821,-74.547\"/>\n",
       "<text text-anchor=\"middle\" x=\"92.5\" y=\"-88.3\" font-family=\"Times,serif\" font-size=\"14.00\">0</text>\n",
       "</g>\n",
       "</g>\n",
       "</svg>\n"
      ],
      "text/plain": [
       "<graphviz.files.Source at 0x7f4df917b160>"
      ]
     },
     "execution_count": 18,
     "metadata": {},
     "output_type": "execute_result"
    }
   ],
   "source": [
    "v_def"
   ]
  },
  {
   "cell_type": "markdown",
   "metadata": {},
   "source": [
    "To get finer methods, you can use the other two endpoints: __expand__ and __abstract__, with algorithms behind them discussed in the other notebook!"
   ]
  },
  {
   "cell_type": "code",
   "execution_count": null,
   "metadata": {},
   "outputs": [],
   "source": []
  }
 ],
 "metadata": {
  "kernelspec": {
   "display_name": "Python 3",
   "language": "python",
   "name": "python3"
  },
  "language_info": {
   "codemirror_mode": {
    "name": "ipython",
    "version": 3
   },
   "file_extension": ".py",
   "mimetype": "text/x-python",
   "name": "python",
   "nbconvert_exporter": "python",
   "pygments_lexer": "ipython3",
   "version": "3.4.3"
  }
 },
 "nbformat": 4,
 "nbformat_minor": 2
}
